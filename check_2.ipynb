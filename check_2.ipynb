{
 "cells": [
  {
   "cell_type": "markdown",
   "metadata": {},
   "source": [
    "#### Find and access a data set in any way you want. You can use an API, a CSV, anything. "
   ]
  },
  {
   "cell_type": "code",
   "execution_count": 3,
   "metadata": {},
   "outputs": [],
   "source": [
    "import pandas as pd\n",
    "from datetime import datetime"
   ]
  },
  {
   "cell_type": "code",
   "execution_count": 4,
   "metadata": {},
   "outputs": [
    {
     "name": "stdout",
     "output_type": "stream",
     "text": [
      "         Day               Date          Time\n",
      "0     Monday    15 January 1900   08:07:30 pm\n",
      "1  Wednesday   14 February 1900   02:50:12 pm\n",
      "2     Friday      16 March 1900   09:11:48 am\n",
      "\n",
      "   year  month  date_of_month  day_of_week  births\n",
      "0  1994      1              1            6    8096\n",
      "1  1994      1              2            7    7772\n",
      "2  1994      1              3            1   10142\n",
      "\n",
      "   year  month  date_of_month  day_of_week  births\n",
      "0  2000      1              1            6    9083\n",
      "1  2000      1              2            7    8006\n",
      "2  2000      1              3            1   11363\n"
     ]
    }
   ],
   "source": [
    "moon_df = pd.read_csv('full_moon.csv')\n",
    "births1_df = pd.read_csv('US_births_1994-2003_CDC_NCHS.csv')\n",
    "births2_df = pd.read_csv('US_births_2000-2014_SSA.csv')\n",
    "\n",
    "print(moon_df.head(3), births1_df.head(3), births2_df.head(3), sep=\"\\n\\n\")"
   ]
  },
  {
   "cell_type": "markdown",
   "metadata": {},
   "source": [
    "#### Fix TWO issues with the data set using techniques you've learned in class."
   ]
  },
  {
   "cell_type": "markdown",
   "metadata": {},
   "source": [
    "1. Remove null values and whitespace"
   ]
  },
  {
   "cell_type": "code",
   "execution_count": 5,
   "metadata": {},
   "outputs": [
    {
     "name": "stdout",
     "output_type": "stream",
     "text": [
      "Empty DataFrame\n",
      "Columns: [year, month, date_of_month, day_of_week, births]\n",
      "Index: []\n",
      "\n",
      "Empty DataFrame\n",
      "Columns: [year, month, date_of_month, day_of_week, births]\n",
      "Index: []\n",
      "\n",
      "Empty DataFrame\n",
      "Columns: [Day,  Date,  Time]\n",
      "Index: []\n"
     ]
    }
   ],
   "source": [
    "# Check for null values\n",
    "print(\n",
    "    births1_df[births1_df.isna().any(axis=1)],\n",
    "    births2_df[births2_df.isna().any(axis=1)],\n",
    "    moon_df[moon_df.isna().any(axis=1)],\n",
    "    sep=\"\\n\\n\")"
   ]
  },
  {
   "cell_type": "code",
   "execution_count": 6,
   "metadata": {},
   "outputs": [
    {
     "name": "stdout",
     "output_type": "stream",
     "text": [
      "year             int64\n",
      "month            int64\n",
      "date_of_month    int64\n",
      "day_of_week      int64\n",
      "births           int64\n",
      "dtype: object\n",
      "\n",
      "year             int64\n",
      "month            int64\n",
      "date_of_month    int64\n",
      "day_of_week      int64\n",
      "births           int64\n",
      "dtype: object\n",
      "\n",
      "Day      object\n",
      " Date    object\n",
      " Time    object\n",
      "dtype: object\n"
     ]
    }
   ],
   "source": [
    "# No null values!\n",
    "# Check dtypes: both birth sets should have only ints, moon_df should have objects\n",
    "\n",
    "print(births1_df.dtypes, births2_df.dtypes, moon_df.dtypes, sep=\"\\n\\n\")"
   ]
  },
  {
   "cell_type": "code",
   "execution_count": 7,
   "metadata": {},
   "outputs": [
    {
     "data": {
      "text/plain": [
       "Index(['Day', ' Date', ' Time'], dtype='object')"
      ]
     },
     "execution_count": 7,
     "metadata": {},
     "output_type": "execute_result"
    }
   ],
   "source": [
    "# Looks good except that Date and Time column names in moon_df look to have extra leading whitespace\n",
    "\n",
    "moon_df.columns"
   ]
  },
  {
   "cell_type": "code",
   "execution_count": 8,
   "metadata": {},
   "outputs": [
    {
     "data": {
      "text/plain": [
       "Index(['Day', 'Date', 'Time'], dtype='object')"
      ]
     },
     "execution_count": 8,
     "metadata": {},
     "output_type": "execute_result"
    }
   ],
   "source": [
    "# Extra whitespace confirmed - strip and check results\n",
    "\n",
    "moon_df.columns = moon_df.columns.str.lstrip()\n",
    "moon_df.columns"
   ]
  },
  {
   "cell_type": "markdown",
   "metadata": {},
   "source": [
    "2. Convert dates in all dfs to YYYY-MM-DD"
   ]
  },
  {
   "cell_type": "code",
   "execution_count": 9,
   "metadata": {},
   "outputs": [
    {
     "name": "stdout",
     "output_type": "stream",
     "text": [
      "Day             object\n",
      "Date    datetime64[ns]\n",
      "Time            object\n",
      "dtype: object\n",
      "\n",
      "         Day       Date          Time\n",
      "0     Monday 1900-01-15   08:07:30 pm\n",
      "1  Wednesday 1900-02-14   02:50:12 pm\n",
      "2     Friday 1900-03-16   09:11:48 am\n",
      "3     Sunday 1900-04-15   02:02:06 am\n",
      "4     Monday 1900-05-14   04:36:36 pm\n"
     ]
    }
   ],
   "source": [
    "# Start with moon_df\n",
    "\n",
    "moon_df['Date'] = pd.to_datetime(moon_df['Date'])\n",
    "print(moon_df.dtypes, moon_df.head(), sep='\\n\\n')"
   ]
  },
  {
   "cell_type": "code",
   "execution_count": 12,
   "metadata": {},
   "outputs": [
    {
     "name": "stdout",
     "output_type": "stream",
     "text": [
      "   year  month  date_of_month  day_of_week  births  Full Date\n",
      "0  1994      1              1            6    8096 1994-01-01\n",
      "1  1994      1              2            7    7772 1994-01-02\n",
      "2  1994      1              3            1   10142 1994-01-03\n",
      "3  1994      1              4            2   11248 1994-01-04\n",
      "4  1994      1              5            3   11053 1994-01-05\n",
      "\n",
      "year                      int64\n",
      "month                     int64\n",
      "date_of_month             int64\n",
      "day_of_week               int64\n",
      "births                    int64\n",
      "Full Date        datetime64[ns]\n",
      "dtype: object\n"
     ]
    }
   ],
   "source": [
    "# Next do the birth dfs\n",
    "\n",
    "births1_df['Full Date'] = pd.to_datetime(births1_df.year.astype(str) + '-' + births1_df.month.astype(str) + '-' + births1_df.date_of_month.astype(str))\n",
    "print(births1_df.head(), births1_df.dtypes, sep='\\n\\n')"
   ]
  },
  {
   "cell_type": "code",
   "execution_count": 13,
   "metadata": {},
   "outputs": [
    {
     "name": "stdout",
     "output_type": "stream",
     "text": [
      "   year  month  date_of_month  day_of_week  births  Full Date\n",
      "0  2000      1              1            6    9083 2000-01-01\n",
      "1  2000      1              2            7    8006 2000-01-02\n",
      "2  2000      1              3            1   11363 2000-01-03\n",
      "3  2000      1              4            2   13032 2000-01-04\n",
      "4  2000      1              5            3   12558 2000-01-05\n",
      "\n",
      "year                      int64\n",
      "month                     int64\n",
      "date_of_month             int64\n",
      "day_of_week               int64\n",
      "births                    int64\n",
      "Full Date        datetime64[ns]\n",
      "dtype: object\n"
     ]
    }
   ],
   "source": [
    "births2_df['Full Date'] = pd.to_datetime(births2_df.year.astype(str) + '-' + births2_df.month.astype(str) + '-' + births2_df.date_of_month.astype(str))\n",
    "print(births2_df.head(), births2_df.dtypes, sep='\\n\\n')"
   ]
  }
 ],
 "metadata": {
  "kernelspec": {
   "display_name": "Python 3.10.1 64-bit",
   "language": "python",
   "name": "python3"
  },
  "language_info": {
   "codemirror_mode": {
    "name": "ipython",
    "version": 3
   },
   "file_extension": ".py",
   "mimetype": "text/x-python",
   "name": "python",
   "nbconvert_exporter": "python",
   "pygments_lexer": "ipython3",
   "version": "3.10.1"
  },
  "orig_nbformat": 4,
  "vscode": {
   "interpreter": {
    "hash": "369f2c481f4da34e4445cda3fffd2e751bd1c4d706f27375911949ba6bb62e1c"
   }
  }
 },
 "nbformat": 4,
 "nbformat_minor": 2
}

{
 "cells": [
  {
   "cell_type": "code",
   "execution_count": 3,
   "metadata": {},
   "outputs": [],
   "source": [
    "import requests\n",
    "import pandas as pd"
   ]
  },
  {
   "cell_type": "code",
   "execution_count": 9,
   "metadata": {},
   "outputs": [],
   "source": [
    "url = \"https://datausa.io/api/data?drilldowns=Nation&measures=Population\"\n",
    "\n",
    "response = requests.get(url)"
   ]
  },
  {
   "cell_type": "code",
   "execution_count": 11,
   "metadata": {},
   "outputs": [
    {
     "data": {
      "text/plain": [
       "{'data': [{'ID Nation': '01000US',\n",
       "   'Nation': 'United States',\n",
       "   'ID Year': 2020,\n",
       "   'Year': '2020',\n",
       "   'Population': 326569308,\n",
       "   'Slug Nation': 'united-states'},\n",
       "  {'ID Nation': '01000US',\n",
       "   'Nation': 'United States',\n",
       "   'ID Year': 2019,\n",
       "   'Year': '2019',\n",
       "   'Population': 324697795,\n",
       "   'Slug Nation': 'united-states'},\n",
       "  {'ID Nation': '01000US',\n",
       "   'Nation': 'United States',\n",
       "   'ID Year': 2018,\n",
       "   'Year': '2018',\n",
       "   'Population': 322903030,\n",
       "   'Slug Nation': 'united-states'},\n",
       "  {'ID Nation': '01000US',\n",
       "   'Nation': 'United States',\n",
       "   'ID Year': 2017,\n",
       "   'Year': '2017',\n",
       "   'Population': 321004407,\n",
       "   'Slug Nation': 'united-states'},\n",
       "  {'ID Nation': '01000US',\n",
       "   'Nation': 'United States',\n",
       "   'ID Year': 2016,\n",
       "   'Year': '2016',\n",
       "   'Population': 318558162,\n",
       "   'Slug Nation': 'united-states'},\n",
       "  {'ID Nation': '01000US',\n",
       "   'Nation': 'United States',\n",
       "   'ID Year': 2015,\n",
       "   'Year': '2015',\n",
       "   'Population': 316515021,\n",
       "   'Slug Nation': 'united-states'},\n",
       "  {'ID Nation': '01000US',\n",
       "   'Nation': 'United States',\n",
       "   'ID Year': 2014,\n",
       "   'Year': '2014',\n",
       "   'Population': 314107084,\n",
       "   'Slug Nation': 'united-states'},\n",
       "  {'ID Nation': '01000US',\n",
       "   'Nation': 'United States',\n",
       "   'ID Year': 2013,\n",
       "   'Year': '2013',\n",
       "   'Population': 311536594,\n",
       "   'Slug Nation': 'united-states'}],\n",
       " 'source': [{'measures': ['Population'],\n",
       "   'annotations': {'source_name': 'Census Bureau',\n",
       "    'source_description': 'The American Community Survey (ACS) is conducted by the US Census and sent to a portion of the population every year.',\n",
       "    'dataset_name': 'ACS 5-year Estimate',\n",
       "    'dataset_link': 'http://www.census.gov/programs-surveys/acs/',\n",
       "    'table_id': 'B01003',\n",
       "    'topic': 'Diversity',\n",
       "    'subtopic': 'Demographics'},\n",
       "   'name': 'acs_yg_total_population_5',\n",
       "   'substitutions': []}]}"
      ]
     },
     "execution_count": 11,
     "metadata": {},
     "output_type": "execute_result"
    }
   ],
   "source": [
    "response.json()"
   ]
  },
  {
   "cell_type": "code",
   "execution_count": null,
   "metadata": {},
   "outputs": [],
   "source": []
  }
 ],
 "metadata": {
  "kernelspec": {
   "display_name": "Python 3.10.1 64-bit",
   "language": "python",
   "name": "python3"
  },
  "language_info": {
   "codemirror_mode": {
    "name": "ipython",
    "version": 3
   },
   "file_extension": ".py",
   "mimetype": "text/x-python",
   "name": "python",
   "nbconvert_exporter": "python",
   "pygments_lexer": "ipython3",
   "version": "3.10.1"
  },
  "orig_nbformat": 4,
  "vscode": {
   "interpreter": {
    "hash": "369f2c481f4da34e4445cda3fffd2e751bd1c4d706f27375911949ba6bb62e1c"
   }
  }
 },
 "nbformat": 4,
 "nbformat_minor": 2
}
